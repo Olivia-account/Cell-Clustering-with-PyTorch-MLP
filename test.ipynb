{
 "cells": [
  {
   "cell_type": "markdown",
   "metadata": {},
   "source": [
    "加载数据，训练模型"
   ]
  },
  {
   "cell_type": "code",
   "execution_count": 15,
   "metadata": {},
   "outputs": [],
   "source": [
    "import pandas as pd\n",
    "import torch\n",
    "import torch.nn as nn\n",
    "import torch.optim as optim\n",
    "from sklearn.model_selection import train_test_split\n",
    "from sklearn.preprocessing import LabelEncoder\n",
    "import matplotlib.pyplot as plt\n",
    "import seaborn as sns\n",
    "from sklearn.metrics import confusion_matrix, accuracy_score\n"
   ]
  },
  {
   "cell_type": "code",
   "execution_count": 16,
   "metadata": {},
   "outputs": [],
   "source": [
    "data = pd.read_csv('data.csv')"
   ]
  },
  {
   "cell_type": "code",
   "execution_count": 17,
   "metadata": {},
   "outputs": [
    {
     "data": {
      "text/plain": [
       "Index(['cell_id', 'x', 'y', 'DAPI-01', 'CD20', 'CXCR5', 'IL21', 'PAX5',\n",
       "       'PMTOR', 'LAG3', 'KI67', 'BCA1', 'FOXP3', 'STAT3', 'TBET', 'CD4',\n",
       "       'IRF4', 'CD45RO', 'CD3E', 'VIMENTIN', 'CD38', 'PD1', 'PAN CYTO', 'CD21',\n",
       "       'ICOS', 'MAC2/GAL3', 'CD8', 'PDL1', 'S100B', 'GZMB', 'TCF1', 'IRF7',\n",
       "       'IFNG', 'CD19', 'STAT1', 'TOX', 'CD11C', 'CD45', 'HLA DR', 'CD39',\n",
       "       'CXCR3', 'IL21R', 'Cluster', 'Cell Cluster'],\n",
       "      dtype='object')"
      ]
     },
     "execution_count": 17,
     "metadata": {},
     "output_type": "execute_result"
    }
   ],
   "source": [
    "data.columns"
   ]
  },
  {
   "cell_type": "code",
   "execution_count": 18,
   "metadata": {},
   "outputs": [],
   "source": [
    "data = data.drop('cell_id', axis=1)\n",
    "data = data.drop('x', axis=1)\n",
    "data = data.drop('y', axis=1)\n",
    "data = data.drop('Cell Cluster', axis=1)"
   ]
  },
  {
   "cell_type": "code",
   "execution_count": 19,
   "metadata": {},
   "outputs": [
    {
     "data": {
      "text/plain": [
       "Index(['DAPI-01', 'CD20', 'CXCR5', 'IL21', 'PAX5', 'PMTOR', 'LAG3', 'KI67',\n",
       "       'BCA1', 'FOXP3', 'STAT3', 'TBET', 'CD4', 'IRF4', 'CD45RO', 'CD3E',\n",
       "       'VIMENTIN', 'CD38', 'PD1', 'PAN CYTO', 'CD21', 'ICOS', 'MAC2/GAL3',\n",
       "       'CD8', 'PDL1', 'S100B', 'GZMB', 'TCF1', 'IRF7', 'IFNG', 'CD19', 'STAT1',\n",
       "       'TOX', 'CD11C', 'CD45', 'HLA DR', 'CD39', 'CXCR3', 'IL21R', 'Cluster'],\n",
       "      dtype='object')"
      ]
     },
     "execution_count": 19,
     "metadata": {},
     "output_type": "execute_result"
    }
   ],
   "source": [
    "data.columns"
   ]
  },
  {
   "cell_type": "code",
   "execution_count": 20,
   "metadata": {},
   "outputs": [],
   "source": [
    "# 提取特征和目标变量\n",
    "X = data.drop('Cluster', axis=1)\n",
    "y = data['Cluster']\n",
    "\n",
    "# 对目标变量进行编码\n",
    "label_encoder = LabelEncoder()\n",
    "y = label_encoder.fit_transform(y)\n",
    "\n",
    "# 划分数据集\n",
    "X_train, X_test, y_train, y_test = train_test_split(X, y, test_size=0.5, random_state=42)\n",
    "\n",
    "# 转换为张量\n",
    "X_train_tensor = torch.tensor(X_train.values, dtype=torch.float32)\n",
    "X_test_tensor = torch.tensor(X_test.values, dtype=torch.float32)\n",
    "y_train_tensor = torch.tensor(y_train, dtype=torch.long)\n",
    "y_test_tensor = torch.tensor(y_test, dtype=torch.long)\n"
   ]
  },
  {
   "cell_type": "code",
   "execution_count": 21,
   "metadata": {},
   "outputs": [],
   "source": [
    "class MLP(nn.Module):\n",
    "    def __init__(self, input_size):\n",
    "        super(MLP, self).__init__()\n",
    "        self.fc1 = nn.Linear(input_size, 64)\n",
    "        self.fc2 = nn.Linear(64, 32)\n",
    "        self.fc3 = nn.Linear(32, len(label_encoder.classes_))\n",
    "\n",
    "    def forward(self, x):\n",
    "        x = torch.relu(self.fc1(x))\n",
    "        x = torch.relu(self.fc2(x))\n",
    "        x = self.fc3(x)\n",
    "        return x\n",
    "\n"
   ]
  },
  {
   "cell_type": "code",
   "execution_count": 22,
   "metadata": {},
   "outputs": [
    {
     "name": "stdout",
     "output_type": "stream",
     "text": [
      "Epoch [1/100], Loss: 2.0038\n",
      "Epoch [2/100], Loss: 1.4514\n",
      "Epoch [3/100], Loss: 1.4863\n",
      "Epoch [4/100], Loss: 1.3692\n",
      "Epoch [5/100], Loss: 1.1680\n",
      "Epoch [6/100], Loss: 1.1009\n",
      "Epoch [7/100], Loss: 1.1106\n",
      "Epoch [8/100], Loss: 1.1271\n",
      "Epoch [9/100], Loss: 1.1157\n",
      "Epoch [10/100], Loss: 1.0750\n",
      "Epoch [11/100], Loss: 1.0228\n",
      "Epoch [12/100], Loss: 0.9720\n",
      "Epoch [13/100], Loss: 0.9269\n",
      "Epoch [14/100], Loss: 0.8928\n",
      "Epoch [15/100], Loss: 0.8659\n",
      "Epoch [16/100], Loss: 0.8412\n",
      "Epoch [17/100], Loss: 0.8126\n",
      "Epoch [18/100], Loss: 0.7771\n",
      "Epoch [19/100], Loss: 0.7424\n",
      "Epoch [20/100], Loss: 0.7137\n",
      "Epoch [21/100], Loss: 0.6854\n",
      "Epoch [22/100], Loss: 0.6588\n",
      "Epoch [23/100], Loss: 0.6345\n",
      "Epoch [24/100], Loss: 0.6127\n",
      "Epoch [25/100], Loss: 0.5939\n"
     ]
    },
    {
     "name": "stdout",
     "output_type": "stream",
     "text": [
      "Epoch [26/100], Loss: 0.5769\n",
      "Epoch [27/100], Loss: 0.5559\n",
      "Epoch [28/100], Loss: 0.5344\n",
      "Epoch [29/100], Loss: 0.5109\n",
      "Epoch [30/100], Loss: 0.4906\n",
      "Epoch [31/100], Loss: 0.4693\n",
      "Epoch [32/100], Loss: 0.4488\n",
      "Epoch [33/100], Loss: 0.4257\n",
      "Epoch [34/100], Loss: 0.4021\n",
      "Epoch [35/100], Loss: 0.3769\n",
      "Epoch [36/100], Loss: 0.3537\n",
      "Epoch [37/100], Loss: 0.3308\n",
      "Epoch [38/100], Loss: 0.3092\n",
      "Epoch [39/100], Loss: 0.2887\n",
      "Epoch [40/100], Loss: 0.2674\n",
      "Epoch [41/100], Loss: 0.2480\n",
      "Epoch [42/100], Loss: 0.2294\n",
      "Epoch [43/100], Loss: 0.2123\n",
      "Epoch [44/100], Loss: 0.1973\n",
      "Epoch [45/100], Loss: 0.1838\n",
      "Epoch [46/100], Loss: 0.1703\n",
      "Epoch [47/100], Loss: 0.1573\n",
      "Epoch [48/100], Loss: 0.1458\n",
      "Epoch [49/100], Loss: 0.1352\n",
      "Epoch [50/100], Loss: 0.1259\n",
      "Epoch [51/100], Loss: 0.1172\n",
      "Epoch [52/100], Loss: 0.1089\n",
      "Epoch [53/100], Loss: 0.1015\n",
      "Epoch [54/100], Loss: 0.0954\n",
      "Epoch [55/100], Loss: 0.0898\n",
      "Epoch [56/100], Loss: 0.0844\n",
      "Epoch [57/100], Loss: 0.0800\n",
      "Epoch [58/100], Loss: 0.0762\n",
      "Epoch [59/100], Loss: 0.0728\n",
      "Epoch [60/100], Loss: 0.0700\n",
      "Epoch [61/100], Loss: 0.0672\n",
      "Epoch [62/100], Loss: 0.0644\n",
      "Epoch [63/100], Loss: 0.0619\n",
      "Epoch [64/100], Loss: 0.0596\n",
      "Epoch [65/100], Loss: 0.0571\n",
      "Epoch [66/100], Loss: 0.0547\n",
      "Epoch [67/100], Loss: 0.0539\n",
      "Epoch [68/100], Loss: 0.0521\n",
      "Epoch [69/100], Loss: 0.0486\n",
      "Epoch [70/100], Loss: 0.0469\n",
      "Epoch [71/100], Loss: 0.0461\n",
      "Epoch [72/100], Loss: 0.0430\n",
      "Epoch [73/100], Loss: 0.0416\n",
      "Epoch [74/100], Loss: 0.0409\n",
      "Epoch [75/100], Loss: 0.0391\n",
      "Epoch [76/100], Loss: 0.0370\n",
      "Epoch [77/100], Loss: 0.0364\n",
      "Epoch [78/100], Loss: 0.0350\n",
      "Epoch [79/100], Loss: 0.0332\n",
      "Epoch [80/100], Loss: 0.0326\n",
      "Epoch [81/100], Loss: 0.0312\n",
      "Epoch [82/100], Loss: 0.0300\n",
      "Epoch [83/100], Loss: 0.0293\n",
      "Epoch [84/100], Loss: 0.0280\n",
      "Epoch [85/100], Loss: 0.0273\n",
      "Epoch [86/100], Loss: 0.0263\n",
      "Epoch [87/100], Loss: 0.0254\n",
      "Epoch [88/100], Loss: 0.0247\n",
      "Epoch [89/100], Loss: 0.0236\n",
      "Epoch [90/100], Loss: 0.0230\n",
      "Epoch [91/100], Loss: 0.0222\n",
      "Epoch [92/100], Loss: 0.0214\n",
      "Epoch [93/100], Loss: 0.0208\n",
      "Epoch [94/100], Loss: 0.0200\n",
      "Epoch [95/100], Loss: 0.0194\n",
      "Epoch [96/100], Loss: 0.0188\n",
      "Epoch [97/100], Loss: 0.0182\n",
      "Epoch [98/100], Loss: 0.0176\n",
      "Epoch [99/100], Loss: 0.0170\n",
      "Epoch [100/100], Loss: 0.0165\n"
     ]
    },
    {
     "data": {
      "image/png": "[encoded data removed]",
      "text/plain": [
       "<Figure size 640x480 with 1 Axes>"
      ]
     },
     "metadata": {},
     "output_type": "display_data"
    },
    {
     "name": "stdout",
     "output_type": "stream",
     "text": [
      "模型在测试集上的准确率: 0.954\n"
     ]
    },
    {
     "data": {
      "image/png": "[encoded data removed]",
      "text/plain": [
       "<Figure size 800x600 with 2 Axes>"
      ]
     },
     "metadata": {},
     "output_type": "display_data"
    }
   ],
   "source": [
    "\n",
    "model = MLP(input_size=X.shape[1])\n",
    "\n",
    "\n",
    "# 定义损失函数和优化器\n",
    "criterion = nn.CrossEntropyLoss()\n",
    "optimizer = optim.Adam(model.parameters(), lr=0.01)\n",
    "\n",
    "# 用于记录每个epoch的损失值\n",
    "losses = []\n",
    "\n",
    "# 训练模型\n",
    "for epoch in range(100):\n",
    "    optimizer.zero_grad()\n",
    "    outputs = model(X_train_tensor)\n",
    "    loss = criterion(outputs, y_train_tensor)\n",
    "    loss.backward()\n",
    "    optimizer.step()\n",
    "\n",
    "    # 记录损失值\n",
    "    losses.append(loss.item())\n",
    "\n",
    "    # 打印每个epoch的损失值\n",
    "    print(f'Epoch [{epoch + 1}/100], Loss: {loss.item():.4f}')\n",
    "\n",
    "# 绘制损失曲线\n",
    "plt.plot(losses, label='Training Loss')\n",
    "plt.xlabel('Epoch')\n",
    "plt.ylabel('Loss')\n",
    "plt.title('Training Loss Over Epochs')\n",
    "plt.legend()\n",
    "plt.show()\n",
    "\n",
    "# 保存模型\n",
    "torch.save(model.state_dict(), 'mlp_model.pth')\n",
    "\n",
    "# 预测并计算准确率\n",
    "with torch.no_grad():\n",
    "    outputs = model(X_test_tensor)\n",
    "    _, predicted = torch.max(outputs, 1)\n",
    "    accuracy = accuracy_score(predicted.numpy(), y_test)\n",
    "\n",
    "    print(f'模型在测试集上的准确率: {accuracy}')\n",
    "\n",
    "    # 计算混淆矩阵\n",
    "    cm = confusion_matrix(y_test, predicted)\n",
    "\n",
    "    # 可视化混淆矩阵\n",
    "    plt.figure(figsize=(8, 6))\n",
    "    sns.heatmap(cm, annot=True, fmt='d', cmap='Blues', xticklabels=label_encoder.classes_, yticklabels=label_encoder.classes_)\n",
    "    plt.xlabel('Predicted')\n",
    "    plt.ylabel('Actual')\n",
    "    plt.title('Confusion Matrix')\n",
    "    plt.show()\n"
   ]
  },
  {
   "cell_type": "markdown",
   "metadata": {},
   "source": [
    "加载模型，预测新数据"
   ]
  },
  {
   "cell_type": "code",
   "execution_count": 23,
   "metadata": {},
   "outputs": [],
   "source": [
    "import torch\n",
    "import pandas as pd\n",
    "from sklearn.preprocessing import LabelEncoder\n",
    "from sklearn.model_selection import train_test_split\n",
    "from sklearn.metrics import accuracy_score, confusion_matrix\n",
    "import seaborn as sns\n",
    "import matplotlib.pyplot as plt\n",
    "import torch.nn as nn\n",
    "import torch.optim as optim\n"
   ]
  },
  {
   "cell_type": "code",
   "execution_count": 24,
   "metadata": {},
   "outputs": [],
   "source": [
    "testData = pd.read_csv('testData.csv')"
   ]
  },
  {
   "cell_type": "code",
   "execution_count": 32,
   "metadata": {},
   "outputs": [
    {
     "name": "stdout",
     "output_type": "stream",
     "text": [
      "True labels for the new data:\n",
      "[5. 0. 5. 5. 5. 5. 5. 5. 1. 0. 7. 0. 0. 0. 5. 0. 5. 1. 5. 5.]\n",
      "Predictions on new data:\n",
      "[5. 0. 5. 5. 5. 5. 5. 5. 1. 0. 7. 0. 0. 0. 5. 0. 5. 1. 5. 5.]\n"
     ]
    }
   ],
   "source": [
    "# Print the true labels (\"Cluster\") for the new data\n",
    "true_labels = testData['Cluster'].values\n",
    "print(\"True labels for the new data:\")\n",
    "print(true_labels)\n",
    "\n",
    "# Drop unnecessary columns similar to the training data preprocessing\n",
    "new_data = testData.drop(['cell_id', 'x', 'y', 'Cell Cluster', 'Cluster'], axis=1)\n",
    "\n",
    "# Load the saved model\n",
    "loaded_model = MLP(input_size=new_data.shape[1])\n",
    "loaded_model.load_state_dict(torch.load('mlp_model.pth'))\n",
    "loaded_model.eval()\n",
    "\n",
    "# Convert new data to tensor\n",
    "new_data_tensor = torch.tensor(new_data.values, dtype=torch.float32)\n",
    "\n",
    "# Make predictions on the new data\n",
    "with torch.no_grad():\n",
    "    new_outputs = loaded_model(new_data_tensor)\n",
    "    _, new_predicted = torch.max(new_outputs, 1)\n",
    "\n",
    "# Decode the predicted labels if needed\n",
    "decoded_predictions = label_encoder.inverse_transform(new_predicted.numpy())\n",
    "\n",
    "# Print or use the predictions as needed\n",
    "print(\"Predictions on new data:\")\n",
    "print(decoded_predictions)\n",
    "\n"
   ]
  }
 ],
 "metadata": {
  "kernelspec": {
   "display_name": "base",
   "language": "python",
   "name": "python3"
  },
  "language_info": {
   "codemirror_mode": {
    "name": "ipython",
    "version": 3
   },
   "file_extension": ".py",
   "mimetype": "text/x-python",
   "name": "python",
   "nbconvert_exporter": "python",
   "pygments_lexer": "ipython3",
   "version": "3.9.12"
  }
 },
 "nbformat": 4,
 "nbformat_minor": 2
}
